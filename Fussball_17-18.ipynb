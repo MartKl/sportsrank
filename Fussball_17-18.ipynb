{
 "cells": [
  {
   "cell_type": "code",
   "execution_count": 1,
   "metadata": {},
   "outputs": [
    {
     "name": "stdout",
     "output_type": "stream",
     "text": [
      "Downloading data... done.\n",
      " \n"
     ]
    }
   ],
   "source": [
    "from sportrank import *\n",
    "BL17 = League(\"bl1\",\"2017\")"
   ]
  },
  {
   "cell_type": "code",
   "execution_count": 2,
   "metadata": {
    "collapsed": true
   },
   "outputs": [],
   "source": [
    "pmtrs = Pmtrs.BL1()\n",
    "rank17 = Rank(BL17,pmtrs)\n",
    "#day to be forecasted\n",
    "day = BL17.LastMatchday+1"
   ]
  },
  {
   "cell_type": "code",
   "execution_count": 3,
   "metadata": {},
   "outputs": [
    {
     "name": "stdout",
     "output_type": "stream",
     "text": [
      "==================================================\n",
      "=========   HeimRank vs. Auswaertsrank   =========\n",
      "==================================================\n",
      "Heim                        Gast                     HRank(Heim)    ARank(Gast)\n",
      "Eintracht Frankfurt        Werder Bremen                -11.39       -17.49\n",
      "RB Leipzig                 Hannover 96                   46.78        40.39\n",
      "SC Freiburg                FC Schalke 04                 12.27        22.72\n",
      "Borussia Mönchengladbach  1. FSV Mainz 05              -13.75       -43.39\n",
      "FC Augsburg                Bayer 04 Leverkusen          -32.76        72.16\n",
      "Hamburger SV               VfB Stuttgart                -61.82       -66.48\n",
      "Borussia Dortmund          Bayern München               26.33        49.44\n",
      "1. FC Köln                TSG 1899 Hoffenheim          -53.50        -7.99\n",
      "VfL Wolfsburg              Hertha BSC                   -17.97       -35.56\n",
      "==================================================\n",
      "================   Total Ranking   ================\n",
      "==================================================\n",
      "Heim                        Gast                     Rank(Heim)    Rank(Gast)\n",
      "Eintracht Frankfurt        Werder Bremen                 29.67      -106.79\n",
      "RB Leipzig                 Hannover 96                   81.32        14.68\n",
      "SC Freiburg                FC Schalke 04                -36.95        60.56\n",
      "Borussia Mönchengladbach  1. FSV Mainz 05              -20.16       -25.37\n",
      "FC Augsburg                Bayer 04 Leverkusen          -12.58        64.93\n",
      "Hamburger SV               VfB Stuttgart                -99.91       -47.25\n",
      "Borussia Dortmund          Bayern München               77.08       110.35\n",
      "1. FC Köln                TSG 1899 Hoffenheim         -112.04        55.99\n",
      "VfL Wolfsburg              Hertha BSC                     1.23       -34.75\n",
      "==================================================\n",
      "==============   Auswaerts ranking   ==============\n",
      "==================================================\n",
      "          Verein               SRank   NRank   Rank\n",
      "----------------------------------------------------\n",
      "Bayern München              119.17   69.73   49.44\n",
      "Bayer 04 Leverkusen          159.93   87.77   72.16\n",
      "TSG 1899 Hoffenheim           83.41   91.40   -7.99\n",
      "Werder Bremen                 76.08   93.57  -17.49\n",
      "Hertha BSC                    66.02  101.58  -35.56\n",
      "VfB Stuttgart                 53.57  120.05  -66.48\n",
      "Hamburger SV                  62.21  135.08  -72.87\n",
      "FC Augsburg                  142.25   74.27   67.98\n",
      "1. FSV Mainz 05               61.82  105.21  -43.39\n",
      "Hannover 96                  117.00   76.61   40.39\n",
      "VfL Wolfsburg                105.57   86.99   18.58\n",
      "Borussia Dortmund            137.06  101.72   35.34\n",
      "FC Schalke 04                 94.83   72.11   22.72\n",
      "RB Leipzig                   119.89   95.06   24.84\n",
      "SC Freiburg                   58.63  178.93 -120.30\n",
      "Eintracht Frankfurt          129.66   81.83   47.83\n",
      "Borussia Mönchengladbach    151.37   82.59   68.78\n",
      "1. FC Köln                   61.53  145.51  -83.98\n",
      "==================================================\n",
      "================   Heim ranking   ================\n",
      "==================================================\n",
      "          Verein               SRank   NRank   Rank\n",
      "----------------------------------------------------\n",
      "Bayern München              173.67   65.41  108.26\n",
      "Bayer 04 Leverkusen          109.53   65.41   44.12\n",
      "TSG 1899 Hoffenheim          113.41  139.47  -26.06\n",
      "Werder Bremen                 59.54  228.03 -168.49\n",
      "Hertha BSC                   103.71  103.07    0.64\n",
      "VfB Stuttgart                127.56   65.41   62.14\n",
      "Hamburger SV                  64.46  126.28  -61.82\n",
      "FC Augsburg                   83.17  115.92  -32.76\n",
      "1. FSV Mainz 05              103.07   96.74    6.33\n",
      "Hannover 96                  129.05   92.41   36.64\n",
      "VfL Wolfsburg                 59.54   77.51  -17.97\n",
      "Borussia Dortmund            111.17   84.84   26.33\n",
      "FC Schalke 04                126.72   84.50   42.22\n",
      "RB Leipzig                   112.19   65.41   46.78\n",
      "SC Freiburg                   77.68   65.41   12.27\n",
      "Eintracht Frankfurt           79.48   90.87  -11.39\n",
      "Borussia Mönchengladbach    106.52  120.27  -13.75\n",
      "1. FC Köln                   59.54  113.03  -53.50\n"
     ]
    }
   ],
   "source": [
    "rank17 = Rank(BL17,pmtrs)\n",
    "rank17.printComparisonHG(day)\n",
    "rank17.printComparison(day)\n",
    "rank17.printAway(day)\n",
    "rank17.printHome(day)"
   ]
  },
  {
   "cell_type": "code",
   "execution_count": null,
   "metadata": {
    "collapsed": true
   },
   "outputs": [],
   "source": [
    "#testing over past leagues\n",
    "BL13 = League(\"bl1\",\"2013\")\n",
    "BL14 = League(\"bl1\",\"2014\")\n",
    "BL15 = League(\"bl1\",\"2015\")\n",
    "BL16 = League(\"bl1\",\"2016\")\n",
    "\n",
    "rank16 =  Rank(BL16,pmtrs)\n",
    "rank =[Rank(BL13,pmtrs), Rank(BL14,pmtrs), Rank(BL15,pmtrs),rank16]"
   ]
  },
  {
   "cell_type": "code",
   "execution_count": null,
   "metadata": {
    "collapsed": true
   },
   "outputs": [],
   "source": [
    "accScore = np.zeros(3, dtype='int')\n",
    "maxScore = 0\n",
    "for r in rank: \n",
    "    accScore = accScore + np.array( r.accumulatedScore(day) ) \n",
    "    maxScore = maxScore+ r.getMaxScore(day)\n",
    "print(\"Score: {} out of {}, predicted draws: {}, actual draws: {}\".format(\n",
    "    accScore[0], maxScore, accScore[1], accScore[2] ))\n",
    "\n",
    "rank16.printAccumulatedScore(day)"
   ]
  },
  {
   "cell_type": "code",
   "execution_count": null,
   "metadata": {
    "collapsed": true
   },
   "outputs": [],
   "source": []
  }
 ],
 "metadata": {
  "kernelspec": {
   "display_name": "Python 2",
   "language": "python",
   "name": "python2"
  },
  "language_info": {
   "codemirror_mode": {
    "name": "ipython",
    "version": 2
   },
   "file_extension": ".py",
   "mimetype": "text/x-python",
   "name": "python",
   "nbconvert_exporter": "python",
   "pygments_lexer": "ipython2",
   "version": "2.7.13"
  }
 },
 "nbformat": 4,
 "nbformat_minor": 2
}
